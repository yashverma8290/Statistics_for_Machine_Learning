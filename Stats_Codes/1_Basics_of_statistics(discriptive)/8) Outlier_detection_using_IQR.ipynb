{
 "cells": [
  {
   "cell_type": "code",
   "execution_count": 13,
   "id": "3d316a64-7ce5-4af1-999f-f44f41592fd5",
   "metadata": {},
   "outputs": [],
   "source": [
    "import numpy as np\n",
    "import seaborn as sns\n",
    "import matplotlib.pyplot as plt\n",
    "dataset=[11, 10, 12, 14, 12, 15, 14,13,15,102,12,14,17,19,107, 10,13,12,14,12,108,12,11,14,13,15,10,15,12,10,14,13,15,10]"
   ]
  },
  {
   "cell_type": "markdown",
   "id": "a17031e5-758f-4c56-9c84-298f0c741cec",
   "metadata": {},
   "source": [
    "# Z-Score computation"
   ]
  },
  {
   "cell_type": "code",
   "execution_count": 14,
   "id": "6cffe51f-4883-43d1-85b0-4dc8e6804468",
   "metadata": {},
   "outputs": [],
   "source": [
    "outliers=[]\n",
    "\n",
    "def detect_outlier(data):\n",
    "    threshold=3;\n",
    "    mean=np.mean(data)\n",
    "    std=np.std(data)\n",
    "\n",
    "\n",
    "    for i in data:\n",
    "        z_score=(i-mean)/std\n",
    "        if np.abs(z_score)> threshold:\n",
    "            outliers.append(i)\n",
    "\n",
    "    return outliers\n",
    "    "
   ]
  },
  {
   "cell_type": "code",
   "execution_count": 15,
   "id": "242e14d4-98cb-4ebf-a51d-da7574419779",
   "metadata": {},
   "outputs": [
    {
     "data": {
      "text/plain": [
       "[102, 107, 108]"
      ]
     },
     "execution_count": 15,
     "metadata": {},
     "output_type": "execute_result"
    }
   ],
   "source": [
    "detect_outlier(dataset)"
   ]
  },
  {
   "cell_type": "code",
   "execution_count": 17,
   "id": "5a35a386-5cfa-4cd0-af0f-f3735f8eec5a",
   "metadata": {},
   "outputs": [
    {
     "data": {
      "text/plain": [
       "(array([31.,  0.,  0.,  0.,  0.,  0.,  0.,  0.,  0.,  3.]),\n",
       " array([ 10. ,  19.8,  29.6,  39.4,  49.2,  59. ,  68.8,  78.6,  88.4,\n",
       "         98.2, 108. ]),\n",
       " <BarContainer object of 10 artists>)"
      ]
     },
     "execution_count": 17,
     "metadata": {},
     "output_type": "execute_result"
    },
    {
     "data": {
      "image/png": "[encoded data removed]",
      "text/plain": [
       "<Figure size 640x480 with 1 Axes>"
      ]
     },
     "metadata": {},
     "output_type": "display_data"
    }
   ],
   "source": [
    "plt.hist(dataset)"
   ]
  },
  {
   "cell_type": "markdown",
   "id": "ec476c61-ace5-46dd-901d-ef47446b5a7f",
   "metadata": {},
   "source": [
    "# IQR\n",
    "1) sort the data\n",
    "2) calculate the value of Q1 and Q3\n",
    "3) Calculate IQR ie, (Q3-Q1)\n",
    "4) find lower fence which is Q1-(1.5*IQR)\n",
    "5) find upper fence which is Q3+(1.5*IQR)\n"
   ]
  },
  {
   "cell_type": "code",
   "execution_count": 18,
   "id": "d6e78b3b-1784-4fe6-a878-128ba59c937d",
   "metadata": {},
   "outputs": [
    {
     "data": {
      "text/plain": [
       "[10,\n",
       " 10,\n",
       " 10,\n",
       " 10,\n",
       " 10,\n",
       " 11,\n",
       " 11,\n",
       " 12,\n",
       " 12,\n",
       " 12,\n",
       " 12,\n",
       " 12,\n",
       " 12,\n",
       " 12,\n",
       " 13,\n",
       " 13,\n",
       " 13,\n",
       " 13,\n",
       " 14,\n",
       " 14,\n",
       " 14,\n",
       " 14,\n",
       " 14,\n",
       " 14,\n",
       " 15,\n",
       " 15,\n",
       " 15,\n",
       " 15,\n",
       " 15,\n",
       " 17,\n",
       " 19,\n",
       " 102,\n",
       " 107,\n",
       " 108]"
      ]
     },
     "execution_count": 18,
     "metadata": {},
     "output_type": "execute_result"
    }
   ],
   "source": [
    "dataset=sorted(dataset)\n",
    "dataset"
   ]
  },
  {
   "cell_type": "code",
   "execution_count": 24,
   "id": "059ac37d-600a-4e95-9ab4-f3b2b1659e4e",
   "metadata": {},
   "outputs": [],
   "source": [
    "Q1=np.percentile(dataset,25) # 25percentile\n",
    "Q3=np.percentile(dataset,75) # 75 percentile"
   ]
  },
  {
   "cell_type": "code",
   "execution_count": 25,
   "id": "641222ed-fc1c-424c-89cd-a9dafa479e65",
   "metadata": {},
   "outputs": [
    {
     "name": "stdout",
     "output_type": "stream",
     "text": [
      "12.0 15.0\n"
     ]
    }
   ],
   "source": [
    "print(Q1,Q3)"
   ]
  },
  {
   "cell_type": "code",
   "execution_count": 26,
   "id": "a06ae86e-1d12-4c30-93bc-356088e3f4c2",
   "metadata": {},
   "outputs": [],
   "source": [
    "# Find IQR\n",
    "IQR = Q3-Q1"
   ]
  },
  {
   "cell_type": "code",
   "execution_count": 27,
   "id": "6d467ded-e60e-41d8-b897-ce9c3debf496",
   "metadata": {},
   "outputs": [
    {
     "name": "stdout",
     "output_type": "stream",
     "text": [
      "7.5 19.5\n"
     ]
    }
   ],
   "source": [
    "# Find the lower fence and the higher fence\n",
    "lower_fence= Q1- (1.5*IQR)\n",
    "upper_fence=Q3+ (1.5*IQR)\n",
    "print(lower_fence,upper_fence)"
   ]
  },
  {
   "cell_type": "code",
   "execution_count": 30,
   "id": "0c112ed1-4e36-4bd7-bc96-f4dcc87e5ba7",
   "metadata": {},
   "outputs": [
    {
     "data": {
      "text/plain": [
       "<Axes: >"
      ]
     },
     "execution_count": 30,
     "metadata": {},
     "output_type": "execute_result"
    },
    {
     "data": {
      "image/png": "[encoded data removed]",
      "text/plain": [
       "<Figure size 640x480 with 1 Axes>"
      ]
     },
     "metadata": {},
     "output_type": "display_data"
    }
   ],
   "source": [
    "sns.boxplot(dataset, orient='h')"
   ]
  },
  {
   "cell_type": "code",
   "execution_count": null,
   "id": "2f798d17-b078-43ab-bd40-c77b24f4f506",
   "metadata": {},
   "outputs": [],
   "source": []
  }
 ],
 "metadata": {
  "kernelspec": {
   "display_name": "Python 3 (ipykernel)",
   "language": "python",
   "name": "python3"
  },
  "language_info": {
   "codemirror_mode": {
    "name": "ipython",
    "version": 3
   },
   "file_extension": ".py",
   "mimetype": "text/x-python",
   "name": "python",
   "nbconvert_exporter": "python",
   "pygments_lexer": "ipython3",
   "version": "3.13.2"
  },
  "widgets": {
   "application/vnd.jupyter.widget-state+json": {
    "state": {},
    "version_major": 2,
    "version_minor": 0
   }
  }
 },
 "nbformat": 4,
 "nbformat_minor": 5
}
